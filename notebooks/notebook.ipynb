{
 "cells": [
  {
   "cell_type": "markdown",
   "id": "3c9daa7a",
   "metadata": {},
   "source": [
    "# 1. Importação de bibliotecas"
   ]
  },
  {
   "cell_type": "code",
   "execution_count": null,
   "id": "6db17434",
   "metadata": {},
   "outputs": [],
   "source": [
    "# Imports e Configurações Iniciais\n",
    "import boto3\n",
    "import re\n",
    "import io\n",
    "from PIL import Image\n",
    "import matplotlib.pyplot as plt\n",
    "import unicodedata\n"
   ]
  },
  {
   "cell_type": "code",
   "execution_count": null,
   "id": "c4261d56",
   "metadata": {},
   "outputs": [],
   "source": [
    "# Inicializar os clientes da AWS\n",
    "textract = boto3.client('textract', region_name='us-east-1')  # ou sua região\n",
    "rekognition = boto3.client('rekognition', region_name='us-east-1')"
   ]
  },
  {
   "cell_type": "code",
   "execution_count": null,
   "id": "03e2b6c4",
   "metadata": {},
   "outputs": [],
   "source": [
    "# Função para exibir imagens\n",
    "def mostrar_imagem(imagem, titulo=\"\"):\n",
    "    plt.imshow(imagem)\n",
    "    plt.axis('off')\n",
    "    plt.title(titulo)\n",
    "    plt.show()"
   ]
  },
  {
   "cell_type": "markdown",
   "id": "2eb3cd1e",
   "metadata": {},
   "source": [
    "# 2. Extração dados CNH"
   ]
  },
  {
   "cell_type": "markdown",
   "id": "e78f5dd8",
   "metadata": {},
   "source": [
    "## 2.1 Leitura da CNH"
   ]
  },
  {
   "cell_type": "code",
   "execution_count": null,
   "id": "1da968de",
   "metadata": {},
   "outputs": [],
   "source": [
    "# Carregar Imagem da CNH\n",
    "with open(\"../data/raw/cnh.png\", \"rb\") as image_file:\n",
    "    imagem_cnh_bytes = image_file.read()\n",
    "\n",
    "imagem_pil = Image.open(io.BytesIO(imagem_cnh_bytes))\n",
    "mostrar_imagem(imagem_pil)"
   ]
  },
  {
   "cell_type": "markdown",
   "id": "edfa00ec",
   "metadata": {},
   "source": [
    "## 2.2 Extração de dados de texto"
   ]
  },
  {
   "cell_type": "code",
   "execution_count": null,
   "id": "607553ba",
   "metadata": {},
   "outputs": [],
   "source": [
    "# Extração de Texto com Textract\n",
    "resposta = textract.detect_document_text(\n",
    "    Document={'Bytes': imagem_cnh_bytes}\n",
    ")\n",
    "\n",
    "# Visualizar texto detectado\n",
    "for item in resposta['Blocks']:\n",
    "    if item['BlockType'] == 'LINE':\n",
    "        print(item['Text'])"
   ]
  },
  {
   "cell_type": "code",
   "execution_count": null,
   "id": "8dfd088b",
   "metadata": {},
   "outputs": [],
   "source": [
    "# Extrair Nome e CPF com Regex\n",
    "texto_totoal_cnh = \" \".join([\n",
    "    item['Text'] for item in resposta['Blocks'] if item['BlockType'] == 'LINE'\n",
    "])\n",
    "\n",
    "# Regex simples para CPF\n",
    "cpf_match = re.search(r\"\\d{3}\\.?\\d{3}\\.?\\d{3}-?\\d{2}\", texto_totoal_cnh)\n",
    "nome_match = re.search(r\"NOME[\\s:]*([A-Z\\s]+)DOC\", texto_totoal_cnh)\n",
    "\n",
    "cpf_cnh = cpf_match.group() if cpf_match else \"Não encontrado\"\n",
    "nome_cnh = nome_match.group(1).strip() if nome_match else \"Não encontrado\"\n",
    "\n",
    "print(f\"CPF extraído: {cpf_cnh}\")\n",
    "print(f\"Nome extraído: {nome_cnh}\")"
   ]
  },
  {
   "cell_type": "markdown",
   "id": "cdd3ec14",
   "metadata": {},
   "source": [
    "## 2.3 Extração da face"
   ]
  },
  {
   "cell_type": "code",
   "execution_count": null,
   "id": "5da41931",
   "metadata": {},
   "outputs": [],
   "source": [
    "# Detecção de Face com Rekognition\n",
    "resposta_faces = rekognition.detect_faces(\n",
    "    Image={'Bytes': imagem_cnh_bytes},\n",
    "    Attributes=['DEFAULT']\n",
    ")\n",
    "\n",
    "# Coordenadas da bounding box (proporcional à imagem)\n",
    "bounding_box = resposta_faces['FaceDetails'][0]['BoundingBox']\n",
    "img_width, img_height = imagem_pil.size\n",
    "\n",
    "left = int(bounding_box['Left'] * img_width)\n",
    "top = int(bounding_box['Top'] * img_height)\n",
    "width = int(bounding_box['Width'] * img_width)\n",
    "height = int(bounding_box['Height'] * img_height)\n",
    "\n",
    "# Recortar a face\n",
    "face_crop = imagem_pil.crop((left, top, left + width, top + height))\n",
    "mostrar_imagem(face_crop)\n",
    "\n",
    "# Salvar face extraída (opcional)\n",
    "face_crop_rgb = face_crop.convert(\"RGB\")\n",
    "face_crop_rgb.save(\"../data/processed/face_cnh.jpg\")\n"
   ]
  },
  {
   "cell_type": "markdown",
   "id": "79af4db8",
   "metadata": {},
   "source": [
    "# 3. Comparação de Faces (CNH vs Selfie)"
   ]
  },
  {
   "cell_type": "markdown",
   "id": "a8daea20",
   "metadata": {},
   "source": [
    "## 3.1 Carrega a Face da CNH"
   ]
  },
  {
   "cell_type": "code",
   "execution_count": null,
   "id": "6130a9db",
   "metadata": {},
   "outputs": [],
   "source": [
    "# Carregando imagem da face extraída\n",
    "with open(\"../data/processed/face_cnh.jpg\", \"rb\") as image_file:\n",
    "    face_cnh_bytes = image_file.read()\n",
    "\n",
    "# Mostrar CNH\n",
    "imagem_cnh = Image.open(io.BytesIO(face_cnh_bytes))\n",
    "mostrar_imagem(imagem_cnh, \"Face da CNH\")\n"
   ]
  },
  {
   "cell_type": "markdown",
   "id": "7aba822d",
   "metadata": {},
   "source": [
    "## 3.2 Carrega Selfie"
   ]
  },
  {
   "cell_type": "code",
   "execution_count": null,
   "id": "289fdd3a",
   "metadata": {},
   "outputs": [],
   "source": [
    "# 3. Carregar Imagem da Selfie\n",
    "with open(\"../data/raw/selfie.png\", \"rb\") as image_file:\n",
    "    selfie_bytes = image_file.read()\n",
    "\n",
    "# Mostrar selfie\n",
    "imagem_selfie = Image.open(io.BytesIO(selfie_bytes))\n",
    "mostrar_imagem(imagem_selfie, \"Selfie\")"
   ]
  },
  {
   "cell_type": "markdown",
   "id": "2e7ec3c5",
   "metadata": {},
   "source": [
    "## 3.3 Comparando fotos"
   ]
  },
  {
   "cell_type": "code",
   "execution_count": null,
   "id": "249a1dd7",
   "metadata": {},
   "outputs": [],
   "source": [
    "# 4. Comparação das Faces com Rekognition\n",
    "resposta_comparacao = rekognition.compare_faces(\n",
    "    SourceImage={'Bytes': face_cnh_bytes},\n",
    "    TargetImage={'Bytes': selfie_bytes},\n",
    "    SimilarityThreshold=80  # Limiar mínimo\n",
    ")\n",
    "\n",
    "# Verificar resultado\n",
    "for face_match in resposta_comparacao['FaceMatches']:\n",
    "    similaridade = face_match['Similarity']\n",
    "    print(f\"Similaridade: {similaridade:.2f}%\")\n",
    "\n",
    "# Interpretar resultado\n",
    "if resposta_comparacao['FaceMatches']:\n",
    "    if similaridade >= 90:\n",
    "        print(\"✅ Faces compatíveis - identidade confirmada.\")\n",
    "    else:\n",
    "        print(\"⚠️ Faces similares, mas abaixo do limiar de 90%.\")\n",
    "else:\n",
    "    print(\"❌ Nenhuma correspondência encontrada.\")\n"
   ]
  },
  {
   "cell_type": "markdown",
   "id": "149de36a",
   "metadata": {},
   "source": [
    "# 4. Comparação entre Dados (CNH e Comprovante de Residência)"
   ]
  },
  {
   "cell_type": "markdown",
   "id": "65172b70",
   "metadata": {},
   "source": [
    "## 4.1 Extrai dados do comprovante Claro"
   ]
  },
  {
   "cell_type": "code",
   "execution_count": null,
   "id": "8e416798",
   "metadata": {},
   "outputs": [],
   "source": [
    "# Funções  para extração de nome e CPF\n",
    "def extrair_nome_e_cpf(texto):\n",
    "    cpf_match = re.search(r'\\b\\d{3}\\.?\\d{3}\\.?\\d{3}-?\\d{2}\\b', texto)\n",
    "    nome_match = re.search(r'^(.+?)\\s+Código Vencimento', texto, flags=re.DOTALL)\n",
    "\n",
    "    cpf = cpf_match.group(0) if cpf_match else None\n",
    "    nome = nome_match.group(1).strip() if nome_match else None\n",
    "    return nome, cpf"
   ]
  },
  {
   "cell_type": "code",
   "execution_count": null,
   "id": "f45338db",
   "metadata": {},
   "outputs": [],
   "source": [
    "# 2. Carregar Imagem do Comprovante\n",
    "with open(\"../data/raw/comprovante.png\", \"rb\") as image_file:\n",
    "    imagem_comprovante_bytes = image_file.read()\n",
    "\n",
    "imagem_pil = Image.open(io.BytesIO(imagem_comprovante_bytes))\n",
    "mostrar_imagem(imagem_pil, \"Comprovante de Residência\")"
   ]
  },
  {
   "cell_type": "code",
   "execution_count": null,
   "id": "6e87f4d0",
   "metadata": {},
   "outputs": [],
   "source": [
    "# 3. Aplicar OCR com Textract\n",
    "resposta_ocr = textract.detect_document_text(\n",
    "    Document={'Bytes': imagem_comprovante_bytes}\n",
    ")\n",
    "\n",
    "# Concatenar todos os blocos de texto detectados\n",
    "texto_extraido = ' '.join([\n",
    "    bloco['Text'] for bloco in resposta_ocr['Blocks']\n",
    "    if bloco['BlockType'] == 'LINE'\n",
    "])\n",
    "\n",
    "print(\"Texto detectado (resumo):\")\n",
    "print(texto_extraido[:1000])"
   ]
  },
  {
   "cell_type": "code",
   "execution_count": null,
   "id": "6747b45e",
   "metadata": {},
   "outputs": [],
   "source": [
    "# 4. Extrair Nome e CPF do comprovante\n",
    "nome_comprovante, cpf_comprovante = extrair_nome_e_cpf(texto_extraido)\n",
    "print(f\"Nome extraído do comprovante: {nome_comprovante}\")\n",
    "print(f\"CPF extraído do comprovante: {cpf_comprovante}\")"
   ]
  },
  {
   "cell_type": "markdown",
   "id": "ec245402",
   "metadata": {},
   "source": [
    "## Compara dados"
   ]
  },
  {
   "cell_type": "code",
   "execution_count": null,
   "id": "300e488b",
   "metadata": {},
   "outputs": [],
   "source": [
    "import unicodedata\n",
    "\n",
    "def normalizar(texto):\n",
    "    if texto:\n",
    "        texto = texto.upper().strip()\n",
    "        texto = unicodedata.normalize('NFKD', texto)\n",
    "        texto = ''.join(c for c in texto if not unicodedata.combining(c))\n",
    "        return texto\n",
    "    return None\n",
    "\n",
    "nome_comprovante_norm = normalizar(nome_comprovante)\n",
    "nome_cnh_norm = normalizar(nome_cnh)\n",
    "\n",
    "cpf_comprovante_norm = re.sub(r'\\D', '', cpf_comprovante or \"\")\n",
    "cpf_cnh_norm = re.sub(r'\\D', '', cpf_cnh or \"\")\n",
    "\n",
    "# Comparação\n",
    "print(\"---- Comparação ----\")\n",
    "print(f\"Nomes iguais? {nome_comprovante_norm == nome_cnh_norm}\")\n",
    "print(f\"CPFs iguais? {cpf_comprovante_norm == cpf_cnh_norm}\")"
   ]
  }
 ],
 "metadata": {
  "kernelspec": {
   "display_name": ".venv_cenv",
   "language": "python",
   "name": "python3"
  },
  "language_info": {
   "codemirror_mode": {
    "name": "ipython",
    "version": 3
   },
   "file_extension": ".py",
   "mimetype": "text/x-python",
   "name": "python",
   "nbconvert_exporter": "python",
   "pygments_lexer": "ipython3",
   "version": "3.12.2"
  }
 },
 "nbformat": 4,
 "nbformat_minor": 5
}
