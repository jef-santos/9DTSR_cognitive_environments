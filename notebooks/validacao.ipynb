{
 "cells": [
  {
   "cell_type": "markdown",
   "id": "92ed6ca9",
   "metadata": {},
   "source": [
    "# 1. Importando Pipeline"
   ]
  },
  {
   "cell_type": "code",
   "execution_count": 1,
   "id": "671ab173",
   "metadata": {},
   "outputs": [],
   "source": [
    "import sys\n",
    "import os\n",
    "\n",
    "# Adiciona o diretório raiz do projeto ao sys.path\n",
    "sys.path.append(os.path.abspath(\"..\"))\n",
    "\n",
    "from src.pipeline import validador\n"
   ]
  },
  {
   "cell_type": "markdown",
   "id": "31dd9535",
   "metadata": {},
   "source": [
    "# Testes"
   ]
  },
  {
   "cell_type": "code",
   "execution_count": 2,
   "id": "6b2b7ab7",
   "metadata": {},
   "outputs": [
    {
     "name": "stdout",
     "output_type": "stream",
     "text": [
      "Resultado da validação: {'nome_cnh': 'LUCAS PEREIRA DA SILVA', 'cpf_cnh': '123.456.789-09', 'nome_comprovante': 'LUCAS PEREIRA DA SILVA', 'cpf_comprovante': '123.456.789-09', 'nomes_iguais': True, 'cpfs_iguais': True, 'face_iguais': True}\n",
      "nomes iguais: True\n",
      "cpfs iguais: True\n",
      "face iguais: True\n"
     ]
    }
   ],
   "source": [
    "resultado = validador(\n",
    "    caminho_imagem_cnh=\"../data/raw/cnh1.png\",\n",
    "    caminho_imagem_comp=\"../data/raw/comprovante1.png\",\n",
    "    caminho_selfie=\"../data/raw/selfie1.png\"\n",
    ")\n",
    "\n",
    "print(\"Resultado da validação:\", resultado)\n",
    "print('nomes iguais:', resultado['nomes_iguais'])\n",
    "print('cpfs iguais:', resultado['cpfs_iguais'])\n",
    "print('face iguais:', resultado['face_iguais'])\n"
   ]
  },
  {
   "cell_type": "code",
   "execution_count": 3,
   "id": "da1da450",
   "metadata": {},
   "outputs": [
    {
     "name": "stdout",
     "output_type": "stream",
     "text": [
      "Resultado da validação: {'nome_cnh': 'MARIANA COSTA ALBUQUERQUE', 'cpf_cnh': '987.654.321-00', 'nome_comprovante': 'MARIANA COSTA ALBUQUERQUE', 'cpf_comprovante': '987.654.321-00', 'nomes_iguais': True, 'cpfs_iguais': True, 'face_iguais': True}\n",
      "nomes iguais: True\n",
      "cpfs iguais: True\n",
      "face iguais: True\n"
     ]
    }
   ],
   "source": [
    "resultado = validador(\n",
    "    caminho_imagem_cnh=\"../data/raw/cnh2.png\",\n",
    "    caminho_imagem_comp=\"../data/raw/comprovante2.png\",\n",
    "    caminho_selfie=\"../data/raw/selfie2.png\"\n",
    ")\n",
    "\n",
    "print(\"Resultado da validação:\", resultado)\n",
    "print('nomes iguais:', resultado['nomes_iguais'])\n",
    "print('cpfs iguais:', resultado['cpfs_iguais'])\n",
    "print('face iguais:', resultado['face_iguais'])"
   ]
  },
  {
   "cell_type": "code",
   "execution_count": 4,
   "id": "5f8cc057",
   "metadata": {},
   "outputs": [
    {
     "name": "stdout",
     "output_type": "stream",
     "text": [
      "Resultado da validação: {'nome_cnh': 'CARLOS EDUARDO MENDES', 'cpf_cnh': '234.567.890-15', 'nome_comprovante': 'CARLOS EDUARDO MENDES', 'cpf_comprovante': '234.567.890-15', 'nomes_iguais': True, 'cpfs_iguais': True, 'face_iguais': True}\n",
      "nomes iguais: True\n",
      "cpfs iguais: True\n",
      "face iguais: True\n"
     ]
    }
   ],
   "source": [
    "resultado = validador(\n",
    "    caminho_imagem_cnh=\"../data/raw/cnh3.png\",\n",
    "    caminho_imagem_comp=\"../data/raw/comprovante3.png\",\n",
    "    caminho_selfie=\"../data/raw/selfie3.png\"\n",
    ")\n",
    "\n",
    "print(\"Resultado da validação:\", resultado)\n",
    "print('nomes iguais:', resultado['nomes_iguais'])\n",
    "print('cpfs iguais:', resultado['cpfs_iguais'])\n",
    "print('face iguais:', resultado['face_iguais'])"
   ]
  },
  {
   "cell_type": "markdown",
   "id": "9b05282f",
   "metadata": {},
   "source": [
    "# Teste trocando documentos"
   ]
  },
  {
   "cell_type": "code",
   "execution_count": 5,
   "id": "64e65d33",
   "metadata": {},
   "outputs": [
    {
     "name": "stdout",
     "output_type": "stream",
     "text": [
      "Resultado da validação: {'nome_cnh': 'LUCAS PEREIRA DA SILVA', 'cpf_cnh': '123.456.789-09', 'nome_comprovante': 'MARIANA COSTA ALBUQUERQUE', 'cpf_comprovante': '987.654.321-00', 'nomes_iguais': False, 'cpfs_iguais': False, 'face_iguais': False}\n",
      "nomes iguais: False\n",
      "cpfs iguais: False\n",
      "face iguais: False\n"
     ]
    }
   ],
   "source": [
    "resultado = validador(\n",
    "    caminho_imagem_cnh=\"../data/raw/cnh1.png\",\n",
    "    caminho_imagem_comp=\"../data/raw/comprovante2.png\",\n",
    "    caminho_selfie=\"../data/raw/selfie3.png\"\n",
    ")\n",
    "\n",
    "print(\"Resultado da validação:\", resultado)\n",
    "print('nomes iguais:', resultado['nomes_iguais'])\n",
    "print('cpfs iguais:', resultado['cpfs_iguais'])\n",
    "print('face iguais:', resultado['face_iguais'])"
   ]
  }
 ],
 "metadata": {
  "kernelspec": {
   "display_name": ".venv_streamlit",
   "language": "python",
   "name": "python3"
  },
  "language_info": {
   "codemirror_mode": {
    "name": "ipython",
    "version": 3
   },
   "file_extension": ".py",
   "mimetype": "text/x-python",
   "name": "python",
   "nbconvert_exporter": "python",
   "pygments_lexer": "ipython3",
   "version": "3.12.2"
  }
 },
 "nbformat": 4,
 "nbformat_minor": 5
}
